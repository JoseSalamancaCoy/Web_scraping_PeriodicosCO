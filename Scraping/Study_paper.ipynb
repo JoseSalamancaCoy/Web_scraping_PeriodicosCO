{
 "cells": [
  {
   "cell_type": "code",
   "execution_count": 56,
   "metadata": {},
   "outputs": [
    {
     "data": {
      "text/plain": [
       "'es-CO.UTF-8'"
      ]
     },
     "execution_count": 56,
     "metadata": {},
     "output_type": "execute_result"
    }
   ],
   "source": [
    "import requests #Comunicacion http\n",
    "import bs4 #Analisis de html\n",
    "import locale\n",
    "from datetime import datetime\n",
    "\n",
    "locale.setlocale(locale.LC_ALL, 'es-CO.UTF-8') "
   ]
  },
  {
   "cell_type": "markdown",
   "metadata": {},
   "source": [
    "<h1>Estraccion links Vanguardia Liberal"
   ]
  },
  {
   "cell_type": "code",
   "execution_count": 26,
   "metadata": {},
   "outputs": [],
   "source": [
    "FormVanguardia = requests.get(\"https://www.vanguardia.com\") #ExtraerHtml de pagina\n",
    "soup = bs4.BeautifulSoup(FormVanguardia.text, 'html.parser') #Convierte en objeto html para busqueda optima"
   ]
  },
  {
   "cell_type": "markdown",
   "metadata": {},
   "source": [
    "Links\n",
    "![Duck](imagenes/Vanguardia_links.png)"
   ]
  },
  {
   "cell_type": "code",
   "execution_count": 27,
   "metadata": {},
   "outputs": [],
   "source": [
    "links = soup.find_all('a', class_='') # Obtiene links en HomePage"
   ]
  },
  {
   "cell_type": "code",
   "execution_count": 28,
   "metadata": {},
   "outputs": [],
   "source": [
    "FormVanguardia= requests.get(\"https://www.vanguardia.com/santander/barrancabermeja/necesita-ayuda-sicologica-el-distrito-la-ofrece-y-es-gratuita-BF2337715\")     \n",
    "soup = bs4.BeautifulSoup(FormVanguardia.text, 'html.parser') #Convierte en objeto html para busqueda optima"
   ]
  },
  {
   "cell_type": "markdown",
   "metadata": {},
   "source": [
    "Links\n",
    "![Duck](imagenes/Vanguardia_title.png)"
   ]
  },
  {
   "cell_type": "code",
   "execution_count": 29,
   "metadata": {},
   "outputs": [
    {
     "data": {
      "text/plain": [
       "[<span class=\"priority-content\" mlnid=\"idcon=4396479;order=1.0\">Â¿Necesita ayuda sicolÃ³gica?: el Distrito la ofrece y es gratuita</span>]"
      ]
     },
     "execution_count": 29,
     "metadata": {},
     "output_type": "execute_result"
    }
   ],
   "source": [
    "title = soup.select('h1 .priority-content')\n",
    "title"
   ]
  },
  {
   "cell_type": "markdown",
   "metadata": {},
   "source": [
    "Links\n",
    "![Duck](imagenes/Vanguardia_cuerpo.png)"
   ]
  },
  {
   "cell_type": "code",
   "execution_count": 30,
   "metadata": {},
   "outputs": [
    {
     "data": {
      "text/plain": [
       "[<p> Las gestiones para que los barranqueÃ±os puedan soportar la cuarentena por el coronavirus se siguen abriendo espacio. </p>,\n",
       " <p> AdemÃ¡s de los programas de recreaciÃ³n que el Distrito, por intermedio del Inderba, ha llevado a los rincones mÃ¡s apartados de la ciudad, se suma la apuesta de asistencia sicolÃ³gica que se anunciÃ³ esta semana para ayudar a las personas que asÃ­ lo necesiten, el cual empezarÃ¡ a funcionar maÃ±ana. </p>,\n",
       " <p> En este caso, a travÃ©s del Centro Regional de AtenciÃ³n a VÃ­ctimas, Crav, se habilitÃ³ el servicio, el cual serÃ¡ ofrecido por distintas plataformas, dependiendo la complejidad del caso. Esto serÃ¡ de carÃ¡cter gratuito. </p>,\n",
       " <p> âDesde el Crav hemos decidido reinventarnos y hemos habilitado una nueva lÃ­nea que nos va a permitir hacer atenciÃ³n psicolÃ³gica y de salud mental a la poblaciÃ³n en Barrancabermeja. Este programa va dirigido a todo tipo de poblaciÃ³n barranqueÃ±a, no solo vÃ­ctimas, viendo la necesidad de nuestra ciudad por todo el tema que se presentaâ, dijo Yesid Triana, director de esta entidad. </p>,\n",
       " <p> âEl dÃ­a lunes habilitaremos la lÃ­nea telefÃ³nica 3138112225 a la cual las personas van a poder llamar, podrÃ¡n agendar su cita y los profesionales en psicologÃ­a recibirÃ¡n esta llamada y revisarÃ¡n sus agendas para poder gozar de este servicioâ, explicÃ³. </p>,\n",
       " <p> <b>Los niveles</b> </p>,\n",
       " <p> SegÃºn la explicaciÃ³n de las autoridades, las personas que requieran de este servicio serÃ¡n atendidas bajo un esquema denominado triage de salud mental, que define la prioridad y forma de atenciÃ³n, de acuerdo a la evaluaciÃ³n previa que realicen los profesionales de la salud encargados de las consultas. </p>,\n",
       " <p> Los niveles considerados leves se atenderÃ¡n por telÃ©fono, los moderados por vÃ­a telefÃ³nica y Skype y por Ãºltimo, los casos severos tendrÃ¡n una ruta de atenciÃ³n especial y personalizada. </p>]"
      ]
     },
     "execution_count": 30,
     "metadata": {},
     "output_type": "execute_result"
    }
   ],
   "source": [
    "body = soup.select(\".paragraph p\")\n",
    "body"
   ]
  },
  {
   "cell_type": "markdown",
   "metadata": {},
   "source": [
    "Links\n",
    "![Duck](imagenes/Vanguardia_fecha.png)"
   ]
  },
  {
   "cell_type": "code",
   "execution_count": 95,
   "metadata": {},
   "outputs": [
    {
     "name": "stdout",
     "output_type": "stream",
     "text": [
      "domingo 10 de mayo de 2020 - 12:00 a. m.\n"
     ]
    },
    {
     "ename": "ValueError",
     "evalue": "time data 'domingo 10 de mayo de 2020 - 12:00 a. m.' does not match format '%d de %B %Y , %I:%M %p'",
     "output_type": "error",
     "traceback": [
      "\u001b[1;31m---------------------------------------------------------------------------\u001b[0m",
      "\u001b[1;31mValueError\u001b[0m                                Traceback (most recent call last)",
      "\u001b[1;32m<ipython-input-95-0de1d01c6f0f>\u001b[0m in \u001b[0;36m<module>\u001b[1;34m\u001b[0m\n\u001b[0;32m      2\u001b[0m \u001b[0mstr_\u001b[0m \u001b[1;33m=\u001b[0m \u001b[0mdate\u001b[0m\u001b[1;33m[\u001b[0m\u001b[1;36m0\u001b[0m\u001b[1;33m]\u001b[0m\u001b[1;33m.\u001b[0m\u001b[0mget_text\u001b[0m\u001b[1;33m(\u001b[0m\u001b[1;33m)\u001b[0m\u001b[1;33m.\u001b[0m\u001b[0mstrip\u001b[0m\u001b[1;33m(\u001b[0m\u001b[1;33m)\u001b[0m\u001b[1;33m.\u001b[0m\u001b[0mreplace\u001b[0m\u001b[1;33m(\u001b[0m\u001b[1;34m\"am\"\u001b[0m\u001b[1;33m,\u001b[0m\u001b[1;34m'a. m.'\u001b[0m\u001b[1;33m)\u001b[0m\u001b[1;33m.\u001b[0m\u001b[0mreplace\u001b[0m\u001b[1;33m(\u001b[0m\u001b[1;34m'a.m.'\u001b[0m\u001b[1;33m,\u001b[0m \u001b[1;34m'a. m.'\u001b[0m\u001b[1;33m)\u001b[0m\u001b[1;33m.\u001b[0m\u001b[0mreplace\u001b[0m\u001b[1;33m(\u001b[0m\u001b[1;34m\"AM\"\u001b[0m\u001b[1;33m,\u001b[0m \u001b[1;34m'a. m.'\u001b[0m\u001b[1;33m)\u001b[0m\u001b[1;33m.\u001b[0m\u001b[0mreplace\u001b[0m\u001b[1;33m(\u001b[0m\u001b[1;34m\"pm\"\u001b[0m\u001b[1;33m,\u001b[0m\u001b[1;34m'p. m.'\u001b[0m\u001b[1;33m)\u001b[0m\u001b[1;33m.\u001b[0m\u001b[0mreplace\u001b[0m\u001b[1;33m(\u001b[0m\u001b[1;34m'p.m.'\u001b[0m\u001b[1;33m,\u001b[0m  \u001b[1;34m'p. m.'\u001b[0m\u001b[1;33m)\u001b[0m\u001b[1;33m.\u001b[0m\u001b[0mreplace\u001b[0m\u001b[1;33m(\u001b[0m\u001b[1;34m\"PM\"\u001b[0m\u001b[1;33m,\u001b[0m \u001b[1;34m'p. m.'\u001b[0m\u001b[1;33m)\u001b[0m\u001b[1;33m\u001b[0m\u001b[1;33m\u001b[0m\u001b[0m\n\u001b[0;32m      3\u001b[0m \u001b[0mprint\u001b[0m\u001b[1;33m(\u001b[0m\u001b[0mstr_\u001b[0m\u001b[1;33m)\u001b[0m\u001b[1;33m\u001b[0m\u001b[1;33m\u001b[0m\u001b[0m\n\u001b[1;32m----> 4\u001b[1;33m \u001b[0mdatetime_object\u001b[0m \u001b[1;33m=\u001b[0m \u001b[0mdatetime\u001b[0m\u001b[1;33m.\u001b[0m\u001b[0mstrptime\u001b[0m\u001b[1;33m(\u001b[0m\u001b[0mstr_\u001b[0m\u001b[1;33m,\u001b[0m \u001b[1;34m\"%d de %B %Y , %I:%M %p\"\u001b[0m\u001b[1;33m)\u001b[0m\u001b[1;33m\u001b[0m\u001b[1;33m\u001b[0m\u001b[0m\n\u001b[0m",
      "\u001b[1;32m~\\Anaconda3\\lib\\_strptime.py\u001b[0m in \u001b[0;36m_strptime_datetime\u001b[1;34m(cls, data_string, format)\u001b[0m\n\u001b[0;32m    575\u001b[0m     \"\"\"Return a class cls instance based on the input string and the\n\u001b[0;32m    576\u001b[0m     format string.\"\"\"\n\u001b[1;32m--> 577\u001b[1;33m     \u001b[0mtt\u001b[0m\u001b[1;33m,\u001b[0m \u001b[0mfraction\u001b[0m\u001b[1;33m,\u001b[0m \u001b[0mgmtoff_fraction\u001b[0m \u001b[1;33m=\u001b[0m \u001b[0m_strptime\u001b[0m\u001b[1;33m(\u001b[0m\u001b[0mdata_string\u001b[0m\u001b[1;33m,\u001b[0m \u001b[0mformat\u001b[0m\u001b[1;33m)\u001b[0m\u001b[1;33m\u001b[0m\u001b[1;33m\u001b[0m\u001b[0m\n\u001b[0m\u001b[0;32m    578\u001b[0m     \u001b[0mtzname\u001b[0m\u001b[1;33m,\u001b[0m \u001b[0mgmtoff\u001b[0m \u001b[1;33m=\u001b[0m \u001b[0mtt\u001b[0m\u001b[1;33m[\u001b[0m\u001b[1;33m-\u001b[0m\u001b[1;36m2\u001b[0m\u001b[1;33m:\u001b[0m\u001b[1;33m]\u001b[0m\u001b[1;33m\u001b[0m\u001b[1;33m\u001b[0m\u001b[0m\n\u001b[0;32m    579\u001b[0m     \u001b[0margs\u001b[0m \u001b[1;33m=\u001b[0m \u001b[0mtt\u001b[0m\u001b[1;33m[\u001b[0m\u001b[1;33m:\u001b[0m\u001b[1;36m6\u001b[0m\u001b[1;33m]\u001b[0m \u001b[1;33m+\u001b[0m \u001b[1;33m(\u001b[0m\u001b[0mfraction\u001b[0m\u001b[1;33m,\u001b[0m\u001b[1;33m)\u001b[0m\u001b[1;33m\u001b[0m\u001b[1;33m\u001b[0m\u001b[0m\n",
      "\u001b[1;32m~\\Anaconda3\\lib\\_strptime.py\u001b[0m in \u001b[0;36m_strptime\u001b[1;34m(data_string, format)\u001b[0m\n\u001b[0;32m    357\u001b[0m     \u001b[1;32mif\u001b[0m \u001b[1;32mnot\u001b[0m \u001b[0mfound\u001b[0m\u001b[1;33m:\u001b[0m\u001b[1;33m\u001b[0m\u001b[1;33m\u001b[0m\u001b[0m\n\u001b[0;32m    358\u001b[0m         raise ValueError(\"time data %r does not match format %r\" %\n\u001b[1;32m--> 359\u001b[1;33m                          (data_string, format))\n\u001b[0m\u001b[0;32m    360\u001b[0m     \u001b[1;32mif\u001b[0m \u001b[0mlen\u001b[0m\u001b[1;33m(\u001b[0m\u001b[0mdata_string\u001b[0m\u001b[1;33m)\u001b[0m \u001b[1;33m!=\u001b[0m \u001b[0mfound\u001b[0m\u001b[1;33m.\u001b[0m\u001b[0mend\u001b[0m\u001b[1;33m(\u001b[0m\u001b[1;33m)\u001b[0m\u001b[1;33m:\u001b[0m\u001b[1;33m\u001b[0m\u001b[1;33m\u001b[0m\u001b[0m\n\u001b[0;32m    361\u001b[0m         raise ValueError(\"unconverted data remains: %s\" %\n",
      "\u001b[1;31mValueError\u001b[0m: time data 'domingo 10 de mayo de 2020 - 12:00 a. m.' does not match format '%d de %B %Y , %I:%M %p'"
     ]
    }
   ],
   "source": [
    "\n",
    "date  = soup.select('.date')\n",
    "str_ = date[0].get_text().strip()"
   ]
  },
  {
   "cell_type": "code",
   "execution_count": 85,
   "metadata": {},
   "outputs": [
    {
     "name": "stdout",
     "output_type": "stream",
     "text": [
      "Fecha en formato ISO 8601: 2020-05-12 12:54:52.054322\n",
      "Formato1: mar. may. 12 12:54:52 2020\n",
      "Formato2: 12-05-20 12:05 p. m.\n"
     ]
    }
   ],
   "source": [
    "# Asigna formato de ejemplo1\n",
    "formato1 = \"%a %b %d %H:%M:%S %Y\"\n",
    "\n",
    "# Asigna formato de ejemplo2\n",
    "formato2 = \"%d-%m-%y %I:%m %p\"\n",
    "\n",
    "hoy = datetime.today()  # Asigna fecha-hora\n",
    "\n",
    "# Muestra fecha-hora según ISO 8601\n",
    "print(\"Fecha en formato ISO 8601:\", hoy)\n",
    "\n",
    "# Aplica formato ejemplo1\n",
    "cadena1 = hoy.strftime(formato1)  \n",
    "\n",
    "# Aplica formato ejemplo2\n",
    "cadena2 = hoy.strftime(formato2)  \n",
    "\n",
    "# Muestra fecha-hora según ejemplo1\n",
    "print(\"Formato1:\", cadena1)\n",
    "\n",
    "# Muestra fecha-hora según ejemplo2\n",
    "print(\"Formato2:\", cadena2)"
   ]
  },
  {
   "cell_type": "markdown",
   "metadata": {},
   "source": [
    "Estraccion links El Tiempo"
   ]
  },
  {
   "cell_type": "code",
   "execution_count": 8,
   "metadata": {},
   "outputs": [],
   "source": [
    "#Afinando para El TIempo\n",
    "\n",
    "FormElTiempo = requests.get(\"https://www.eltiempo.com\") #ExtraerHtml de pagina\n",
    "soup = bs4.BeautifulSoup(FormElTiempo.text, 'html.parser') #Convierte en objeto html para busqueda optima\n"
   ]
  },
  {
   "cell_type": "code",
   "execution_count": 9,
   "metadata": {},
   "outputs": [],
   "source": [
    "object_link = soup.find_all(\"a\", class_=\"page-link\") #En todos los links 'a' buscar el selector css \"page-link\"\n",
    "links = [link['href'] for link in object_link]"
   ]
  },
  {
   "cell_type": "code",
   "execution_count": 10,
   "metadata": {},
   "outputs": [],
   "source": [
    "FormElTiempo = requests.get(\"https://www.eltiempo.com/deportes/futbol-colombiano/comite-de-mercadeo-rechazo-firma-canadiense-del-protocolo-de-dimayor-493606\")     \n",
    "soup = bs4.BeautifulSoup(FormElTiempo.text, 'html.parser') #Convierte en objeto html para busqueda optima\n",
    "\n",
    "object_link = soup.select(\".contenido p\") #En todos los links 'a' buscar el selector css \"page-link\"\n",
    "#links = [link['href'] for link in object_link]"
   ]
  },
  {
   "cell_type": "code",
   "execution_count": 11,
   "metadata": {},
   "outputs": [],
   "source": [
    "object_link = soup.find_all('p', class_='contenido')"
   ]
  },
  {
   "cell_type": "code",
   "execution_count": 12,
   "metadata": {},
   "outputs": [
    {
     "data": {
      "text/plain": [
       "'Este sábado surgió la versión de que el comité de mercadeo de la Dimayor rechazó a dicha compañía, llamada\\xa0Athletics and Healt Solutions Inc., que estaba en espera de ser elegida para dicho proceso, en cuanto el Gobierno Nacional diera el visto bueno al protocolo para la reactivación del fútbol a puerta cerrada.\\xa0(Lea también:\\xa0\\'Todos queremos títulos\\': James, en charla virtual de la Selección\\')Según algunas fuentes consultadas por EL TIEMPO, entre dirigentes opositores a la presidencia de Jorge Enrique Vélez en la Dimayor, fue el comité de mercadeo el que sugirió no tener en cuenta a esta firma para adelantar ese proceso. Los dirigentes opositores venían cuestionando hace semanas a esta compañía.\\xa0Sin embargo, otros directivos consultados por este diario dieron otra información. Cuentan que fue el propio presidente de la Dimayor el que\\xa0decidió descartar a esta firma, debido a que algunos directivos consideraban que no era conveniente y se opusieron a su elección, por lo tanto decidió buscar entre otras alternativas.\\xa0\"Como Vélez dijo que tenía varias posibilidades, entonces preferían elegir otra para evitar malinterpretaciones\", dijo un directivo.\\xa0Un integrante de la comisión de mercadeo aseguró que este tema no era de su resorte porque es un asunto de salubridad.La comisión de mercadeo la integran los presidentes de Santa Fe, Millonarios, Equidad, Jaguares, Águilas, Cortuluá y América.\\xa0La Dimayor emitiría un comunicado para explicar lo sucedido. Los directivos dicen que el propio Vélez les dijo que daría información de manera oficial.\\xa0'"
      ]
     },
     "execution_count": 12,
     "metadata": {},
     "output_type": "execute_result"
    }
   ],
   "source": [
    "object_link[1].text"
   ]
  },
  {
   "cell_type": "code",
   "execution_count": 13,
   "metadata": {},
   "outputs": [],
   "source": [
    "titulo = soup.find_all('h1', class_=\"titulo\")\n"
   ]
  },
  {
   "cell_type": "code",
   "execution_count": 14,
   "metadata": {},
   "outputs": [
    {
     "data": {
      "text/plain": [
       "[<h1 class=\"titulo\" id=\"p493606-m630-629-631\" itemprop=\"headline\">Así fue como la Dimayor descartó la empresa de pruebas de covid-19</h1>]"
      ]
     },
     "execution_count": 14,
     "metadata": {},
     "output_type": "execute_result"
    }
   ],
   "source": [
    "titulo"
   ]
  },
  {
   "cell_type": "markdown",
   "metadata": {},
   "source": [
    "El Espectador"
   ]
  },
  {
   "cell_type": "code",
   "execution_count": 15,
   "metadata": {},
   "outputs": [],
   "source": [
    "#Afinando para El TIempo\n",
    "\n",
    "FormElEspectador = requests.get(\"https://www.elespectador.com\") #ExtraerHtml de pagina\n",
    "soup = bs4.BeautifulSoup(FormElEspectador.text, 'html.parser') #Convierte en objeto html para busqueda optima\n",
    "\n"
   ]
  },
  {
   "cell_type": "code",
   "execution_count": 16,
   "metadata": {},
   "outputs": [],
   "source": [
    "object_link = soup.find_all(\"a\", class_=\"node-title\") #En todos los links 'a' buscar el selector css \"page-link\"\n",
    "links = [link['href'] for link in object_link]"
   ]
  },
  {
   "cell_type": "code",
   "execution_count": 17,
   "metadata": {},
   "outputs": [
    {
     "data": {
      "text/plain": [
       "'/coronavirus/en-vivo-colombia-reporta-11613-casos-confirmados-de-coronavirus-hoy-11-de-mayo-articulo-906414'"
      ]
     },
     "execution_count": 17,
     "metadata": {},
     "output_type": "execute_result"
    }
   ],
   "source": [
    "soup.select(\".node-title a\")[0]['href']"
   ]
  },
  {
   "cell_type": "code",
   "execution_count": 18,
   "metadata": {},
   "outputs": [],
   "source": [
    "FormElTiempo = requests.get(\"https://www.elespectador.com/coronavirus/en-colombia-hay-678-trabajadores-de-la-salud-con-covid-19-articulo-918724\")     \n",
    "soup = bs4.BeautifulSoup(FormElTiempo.text, 'html.parser') #Convierte en objeto html para busqueda optima\n",
    "\n",
    "object_link = soup.select(\".node-body p\") #En todos los links 'a' buscar el selector css \"page-link\"\n",
    "#links = [link['href'] for link in object_link]"
   ]
  },
  {
   "cell_type": "code",
   "execution_count": 19,
   "metadata": {},
   "outputs": [
    {
     "data": {
      "text/plain": [
       "[<h1>En Colombia hay 678 trabajadores de la salud con COVID-19</h1>,\n",
       " <h1><a href=\"/coronavirus/la-primera-infancia-puede-ser-el-sector-mas-afectado-en-esta-pandemia-articulo-919027\">La primera infancia puede ser el sector más afectado en esta pandemia</a></h1>]"
      ]
     },
     "execution_count": 19,
     "metadata": {},
     "output_type": "execute_result"
    }
   ],
   "source": [
    "soup.select(\".node-title h1\")"
   ]
  },
  {
   "cell_type": "code",
   "execution_count": 21,
   "metadata": {},
   "outputs": [
    {
     "data": {
      "text/plain": [
       "'9 May 2020 - 2:56 PM'"
      ]
     },
     "execution_count": 21,
     "metadata": {},
     "output_type": "execute_result"
    }
   ],
   "source": [
    "soup.select('.node-post-date')[0].text"
   ]
  },
  {
   "cell_type": "code",
   "execution_count": null,
   "metadata": {},
   "outputs": [],
   "source": []
  }
 ],
 "metadata": {
  "kernelspec": {
   "display_name": "Python 3",
   "language": "python",
   "name": "python3"
  },
  "language_info": {
   "codemirror_mode": {
    "name": "ipython",
    "version": 3
   },
   "file_extension": ".py",
   "mimetype": "text/x-python",
   "name": "python",
   "nbconvert_exporter": "python",
   "pygments_lexer": "ipython3",
   "version": "3.7.3"
  }
 },
 "nbformat": 4,
 "nbformat_minor": 2
}
