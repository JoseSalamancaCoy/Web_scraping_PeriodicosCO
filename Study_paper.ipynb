{
 "cells": [
  {
   "cell_type": "code",
   "execution_count": 1,
   "metadata": {},
   "outputs": [],
   "source": [
    "import requests #Comunicacion http\n",
    "import bs4 #Analisis de html"
   ]
  },
  {
   "cell_type": "markdown",
   "metadata": {},
   "source": [
    "Estraccion links Vanguardia Liberal"
   ]
  },
  {
   "cell_type": "code",
   "execution_count": 154,
   "metadata": {},
   "outputs": [],
   "source": [
    "FormVanguardia = requests.get(\"https://www.vanguardia.com\") #ExtraerHtml de pagina\n",
    "soup = bs4.BeautifulSoup(FormEspectador.text, 'html.parser') #Convierte en objeto html para busqueda optima"
   ]
  },
  {
   "cell_type": "code",
   "execution_count": 155,
   "metadata": {},
   "outputs": [],
   "source": [
    "Text_ = soup.get_text() #Verifica extraccion"
   ]
  },
  {
   "cell_type": "code",
   "execution_count": 158,
   "metadata": {},
   "outputs": [
    {
     "name": "stdout",
     "output_type": "stream",
     "text": [
      "6\n"
     ]
    }
   ],
   "source": [
    "# Python3 program to extract all the numbers from a string \n",
    "import re \n",
    "  \n",
    "# Function to extract all the numbers from the given string \n",
    "def getCount(str_): \n",
    "    array = re.findall(r'', str_) \n",
    "    return len(array) \n",
    "  \n",
    "# Driver code \n",
    "Count = getNumbers(Text_) \n",
    "print(Count) "
   ]
  },
  {
   "cell_type": "code",
   "execution_count": 159,
   "metadata": {},
   "outputs": [],
   "source": [
    "links = soup.find_all('a', href=True)"
   ]
  },
  {
   "cell_type": "code",
   "execution_count": 163,
   "metadata": {},
   "outputs": [
    {
     "data": {
      "text/plain": [
       "'/santander'"
      ]
     },
     "execution_count": 163,
     "metadata": {},
     "output_type": "execute_result"
    }
   ],
   "source": [
    "links[20][\"href\"]"
   ]
  },
  {
   "cell_type": "markdown",
   "metadata": {},
   "source": [
    "Estraccion links El Tiempo"
   ]
  },
  {
   "cell_type": "code",
   "execution_count": 179,
   "metadata": {},
   "outputs": [],
   "source": [
    "#Afinando para El TIempo\n",
    "\n",
    "FormElTiempo = requests.get(\"https://www.eltiempo.com\") #ExtraerHtml de pagina\n",
    "soup = bs4.BeautifulSoup(FormElTiempo.text, 'html.parser') #Convierte en objeto html para busqueda optima\n"
   ]
  },
  {
   "cell_type": "code",
   "execution_count": 199,
   "metadata": {},
   "outputs": [],
   "source": [
    "object_link = soup.find_all(\"a\", class_=\"page-link\") #En todos los links 'a' buscar el selector css \"page-link\"\n",
    "links = [link['href'] for link in object_link]"
   ]
  }
 ],
 "metadata": {
  "kernelspec": {
   "display_name": "Python 3",
   "language": "python",
   "name": "python3"
  },
  "language_info": {
   "codemirror_mode": {
    "name": "ipython",
    "version": 3
   },
   "file_extension": ".py",
   "mimetype": "text/x-python",
   "name": "python",
   "nbconvert_exporter": "python",
   "pygments_lexer": "ipython3",
   "version": "3.7.3"
  }
 },
 "nbformat": 4,
 "nbformat_minor": 2
}
